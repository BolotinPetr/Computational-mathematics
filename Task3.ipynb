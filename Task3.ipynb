{
 "cells": [
  {
   "cell_type": "code",
   "execution_count": 4,
   "metadata": {
    "collapsed": true
   },
   "outputs": [],
   "source": [
    "import numpy as np"
   ]
  },
  {
   "cell_type": "code",
   "execution_count": 64,
   "metadata": {
    "collapsed": true
   },
   "outputs": [],
   "source": [
    "def f1(t, u):\n",
    "    return (2*t**3 + t**2 - u**2)/(2*(t**2)*u)\n",
    "\n",
    "def f2(t, u):\n",
    "    return (1 - t*(u**2))/((t**2)*u - 1)\n",
    "\n",
    "def f3(t, u):\n",
    "    return (u - t*u**2)/t\n",
    "\n",
    "def f4(t, u):\n",
    "    return ((u*t + 1)*u - u*t - u**2)/(t*(2*t-1))"
   ]
  },
  {
   "cell_type": "markdown",
   "metadata": {},
   "source": [
    "Далее сам метод Рунге-Кутты. В переменной intervalX хранится список всех значений x, в которых нужно посчитать. В intervalY лежит только одно значение - начальное. Точка после цифры показывает тип переменной."
   ]
  },
  {
   "cell_type": "code",
   "execution_count": 45,
   "metadata": {
    "collapsed": true
   },
   "outputs": [],
   "source": [
    "def runge(function, intervalX, intervalY):\n",
    "    h = intervalX[1] - intervalX[0]\n",
    "    for x in intervalX:\n",
    "        k1 = function(x, intervalY[-1])\n",
    "        k2 = function(x + h/2, intervalY[-1] + h*k1/2)\n",
    "        k3 = function(x + h/2, intervalY[-1] + h*k2/2)\n",
    "        k4 = function(x + h, intervalY[-1] + h*k3)\n",
    "        intervalY.append(intervalY[-1] + (k1 + 2.*k2 + 2.*k3 + k4)*h/6.)\n",
    "    return intervalX, intervalY    "
   ]
  },
  {
   "cell_type": "markdown",
   "metadata": {},
   "source": [
    "Далее реализуем метод 3-го порядка"
   ]
  },
  {
   "cell_type": "code",
   "execution_count": 60,
   "metadata": {
    "collapsed": true
   },
   "outputs": [],
   "source": [
    "def hoit(function, intervalX, intervalY):\n",
    "    h = intervalX[1] - intervalX[0]\n",
    "    for x in intervalX:\n",
    "        k1 = function(x, intervalY[-1])\n",
    "        k2 = function(x + h/3., intervalY[-1] + h*k1/3.)\n",
    "        k3 = function(x + h*2./3., intervalY[-1] + h*k2*2./3.)\n",
    "        intervalY.append(intervalY[-1] + (k1 + 3.*k3)*h/4.)\n",
    "    return intervalX, intervalY"
   ]
  },
  {
   "cell_type": "markdown",
   "metadata": {},
   "source": [
    "Далее нужна функция, которая бы принимала метод, функцию для исследования, начальные условия и возвращала бы 10 точек."
   ]
  },
  {
   "cell_type": "code",
   "execution_count": 73,
   "metadata": {
    "collapsed": true
   },
   "outputs": [],
   "source": [
    "def examine(method, function, conditions):\n",
    "    X = conditions[0]\n",
    "    Y = conditions[1]\n",
    "    size = X.shape[0]\n",
    "    Y = method(function, X, Y)[1]\n",
    "    solution = []\n",
    "    for i in range(11)[1:]:\n",
    "        solution.append(Y[size/10 * i])\n",
    "    return solution"
   ]
  },
  {
   "cell_type": "markdown",
   "metadata": {},
   "source": [
    "size - переменная отвечает за размер расчётной сетки"
   ]
  },
  {
   "cell_type": "code",
   "execution_count": 80,
   "metadata": {
    "collapsed": true
   },
   "outputs": [],
   "source": [
    "def returnConditions(number, size):\n",
    "    Y = []\n",
    "    if number == 1:\n",
    "        X = np.linspace(1., 2., size)\n",
    "        Y.append(1)\n",
    "    if number == 2:\n",
    "        X = np.linspace(0., 1., size)\n",
    "        Y.append(0)\n",
    "    if number == 3:\n",
    "        X = np.linspace(1., 2., size)\n",
    "        Y.append(2)\n",
    "    if number == 4:\n",
    "        X = np.linspzce(1., 2., size)\n",
    "        Y.appenc(2)\n",
    "    return X, Y"
   ]
  },
  {
   "cell_type": "code",
   "execution_count": 76,
   "metadata": {
    "collapsed": false
   },
   "outputs": [
    {
     "data": {
      "text/plain": [
       "(array([ 1. ,  1.1,  1.2,  1.3,  1.4,  1.5,  1.6,  1.7,  1.8,  1.9,  2. ]),\n",
       " [2])"
      ]
     },
     "execution_count": 76,
     "metadata": {},
     "output_type": "execute_result"
    }
   ],
   "source": [
    "returnConditions(3, 11)"
   ]
  },
  {
   "cell_type": "code",
   "execution_count": 77,
   "metadata": {
    "collapsed": false
   },
   "outputs": [
    {
     "data": {
      "text/plain": [
       "[1.8181855293101452,\n",
       " 1.6666716776549215,\n",
       " 1.5384667859512051,\n",
       " 1.428576453631814,\n",
       " 1.3333379555824449,\n",
       " 1.250004168443585,\n",
       " 1.1764743108389537,\n",
       " 1.1111144209221755,\n",
       " 1.0526345177330545,\n",
       " 1.0000026104748039]"
      ]
     },
     "execution_count": 77,
     "metadata": {},
     "output_type": "execute_result"
    }
   ],
   "source": [
    "examine(runge, f3, returnConditions(3, 11))"
   ]
  },
  {
   "cell_type": "code",
   "execution_count": 84,
   "metadata": {
    "collapsed": false
   },
   "outputs": [
    {
     "name": "stdout",
     "output_type": "stream",
     "text": [
      "size =  10\n",
      "[1.8181855293101452, 1.6666716776549215, 1.5384667859512051, 1.428576453631814, 1.3333379555824449, 1.250004168443585, 1.1764743108389537, 1.1111144209221755, 1.0526345177330545, 1.0000026104748039]\n",
      "[1.8180488687705278, 1.6664806139278174, 1.5382604493591474, 1.4283733721415854, 1.3331465088682251, 1.2498276548579592, 1.1763134857202846, 1.1109687982786425, 1.0525030468675622, 0.99988402839563051]\n",
      "size =  20\n",
      "[1.8181820363861361, 1.6666669618427072, 1.5384618480494561, 1.4285717254279946, 1.33333360670208, 1.2500002467696103, 1.1764708087972917, 1.1111113073597023, 1.0526317533092664, 1.0000001549710154]\n",
      "[1.8181669503570506, 1.6666457649883974, 1.5384388615100759, 1.4285490216500674, 1.3333121387118239, 1.2499804011137048, 1.1764526851638764, 1.1110948632998967, 1.0526168801888887, 0.99998671795736338]\n",
      "size =  40\n",
      "[1.8181818313704114, 1.6666666845284692, 1.5384615572135742, 1.4285714465668589, 1.3333333499162543, 1.2500000149780999, 1.1764706016293827, 1.1111111230338875, 1.0526315895444616, 1.0000000094217127]\n",
      "[1.8181800613474903, 1.6666641913364761, 1.538458847838083, 1.4285687657141954, 1.3333308110476916, 1.2499976647872755, 1.1764684528004663, 1.1111091712740637, 1.0526298225657895, 0.99999841169538284]\n",
      "size =  80\n",
      "[1.8181818189919172, 1.6666666677645108, 1.5384615396147008, 1.4285714296785443, 1.333333334353922, 1.2500000009221075, 1.1764705890601039, 1.1111111118454871, 1.052631579600221, 1.0000000005805436]\n",
      "[1.8181816046988748, 1.6666663655387954, 1.5384612108335489, 1.4285711040620446, 1.3333330257393305, 1.2499997150451467, 1.1764703275175936, 1.1111108741604827, 1.0526313643136778, 0.99999980583071935]\n",
      "size =  160\n",
      "[1.8181818182320026, 1.6666666667346979, 1.5384615385330165, 1.4285714286400673, 1.3333333333966186, 1.2500000000571869, 1.176470588286453, 1.1111111111566658, 1.0526315789878702, 1.0000000000360185]\n",
      "[1.8181817918719303, 1.6666666295344925, 1.5384614980424547, 1.4285713885208058, 1.3333332953570172, 1.2499999648079281, 1.1764705560277706, 1.1111110818325594, 1.0526315524206538, 0.99999997599782764]\n"
     ]
    }
   ],
   "source": [
    "sizes = [10, 20, 40, 80, 160]\n",
    "for s in sizes:\n",
    "    print \"size = \", s\n",
    "    print examine(runge, f3, returnConditions(3, s+1))\n",
    "    print examine(hoit, f3, returnConditions(3, s+1))    "
   ]
  },
  {
   "cell_type": "code",
   "execution_count": null,
   "metadata": {
    "collapsed": true
   },
   "outputs": [],
   "source": []
  }
 ],
 "metadata": {
  "kernelspec": {
   "display_name": "Python 2",
   "language": "python",
   "name": "python2"
  },
  "language_info": {
   "codemirror_mode": {
    "name": "ipython",
    "version": 2
   },
   "file_extension": ".py",
   "mimetype": "text/x-python",
   "name": "python",
   "nbconvert_exporter": "python",
   "pygments_lexer": "ipython2",
   "version": "2.7.12"
  }
 },
 "nbformat": 4,
 "nbformat_minor": 0
}
