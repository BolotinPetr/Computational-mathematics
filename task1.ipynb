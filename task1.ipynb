{
 "cells": [
  {
   "cell_type": "code",
   "execution_count": 47,
   "metadata": {
    "collapsed": true
   },
   "outputs": [],
   "source": [
    "import numpy as np\n",
    "import matplotlib.pyplot as plt"
   ]
  },
  {
   "cell_type": "code",
   "execution_count": 91,
   "metadata": {
    "collapsed": true
   },
   "outputs": [],
   "source": [
    "x = [0.17453, 0.52360, 0.87267, 1.22173, 1.57080, 1.91986, 2.26893]\n",
    "y = [0.00162, 0.00252, 0.00498, 0.01290, 0.03964, 0.12070, 0.34097]\n"
   ]
  },
  {
   "cell_type": "code",
   "execution_count": 49,
   "metadata": {
    "collapsed": false
   },
   "outputs": [
    {
     "name": "stdout",
     "output_type": "stream",
     "text": [
      "[]\n"
     ]
    }
   ],
   "source": [
    "matrix = np.empty((0, len(x)), float)\n",
    "print matrix"
   ]
  },
  {
   "cell_type": "code",
   "execution_count": 65,
   "metadata": {
    "collapsed": false
   },
   "outputs": [
    {
     "name": "stdout",
     "output_type": "stream",
     "text": [
      "[0, 2, 4, 6, 8, 10, 12]\n"
     ]
    }
   ],
   "source": [
    "print [i*2 for i in range(len(x))] //такие вставки будут и далее, чтобы вам было понятнее, если вам\n",
    "не приходилось работать с питоном. Помечать их буду словом \"вставка\"."
   ]
  },
  {
   "cell_type": "raw",
   "metadata": {},
   "source": [
    "Чтобы интерполировать многочленом, нужно решить систему Ax=y. Создадим матрицу A "
   ]
  },
  {
   "cell_type": "code",
   "execution_count": 50,
   "metadata": {
    "collapsed": false
   },
   "outputs": [
    {
     "name": "stdout",
     "output_type": "stream",
     "text": [
      "[[  2.82631480e-05   1.61938624e-04   9.27855518e-04   5.31630962e-03\n",
      "    3.04607209e-02   1.74530000e-01   1.00000000e+00]\n",
      " [  2.06061960e-02   3.93548435e-02   7.51620387e-02   1.43548584e-01\n",
      "    2.74156960e-01   5.23600000e-01   1.00000000e+00]\n",
      " [  4.41672417e-01   5.06116192e-01   5.79962864e-01   6.64584394e-01\n",
      "    7.61552929e-01   8.72670000e-01   1.00000000e+00]\n",
      " [  3.32545771e+00   2.72192523e+00   2.22792698e+00   1.82358376e+00\n",
      "    1.49262419e+00   1.22173000e+00   1.00000000e+00]\n",
      " [  1.50219169e+01   9.56322696e+00   6.08812514e+00   3.87581177e+00\n",
      "    2.46741264e+00   1.57080000e+00   1.00000000e+00]\n",
      " [  5.00745853e+01   2.60824150e+01   1.35855818e+01   7.07633982e+00\n",
      "    3.68586242e+00   1.91986000e+00   1.00000000e+00]\n",
      " [  1.36435248e+02   6.01319776e+01   2.65023503e+01   1.16805500e+01\n",
      "    5.14804334e+00   2.26893000e+00   1.00000000e+00]]\n"
     ]
    }
   ],
   "source": [
    "for j in range(len(x)):\n",
    "    matrix = np.append(matrix, np.array([[x[j]**(len(x) - i - 1) for i in range(len(x))]]), axis = 0)\n",
    "print matrix"
   ]
  },
  {
   "cell_type": "code",
   "execution_count": 51,
   "metadata": {
    "collapsed": true
   },
   "outputs": [],
   "source": [
    "b = np.array(y).transpose()\n",
    "interpolation_c = np.linalg.solve(matrix, b)"
   ]
  },
  {
   "cell_type": "raw",
   "metadata": {},
   "source": [
    "Коэффициенты интерполяции найдены. "
   ]
  },
  {
   "cell_type": "code",
   "execution_count": 52,
   "metadata": {
    "collapsed": false
   },
   "outputs": [
    {
     "name": "stdout",
     "output_type": "stream",
     "text": [
      "[ 0.01117457 -0.04981626  0.10945434 -0.12270162  0.07479615 -0.01939146\n",
      "  0.00328456]\n"
     ]
    }
   ],
   "source": [
    "print interpolation_c"
   ]
  },
  {
   "cell_type": "raw",
   "metadata": {},
   "source": [
    "Далее нужно сделать сплайн интерполяцию, при этом производные сплайнов в известных точках должны совпадать с производными интерполяционного многочлена."
   ]
  },
  {
   "cell_type": "code",
   "execution_count": 53,
   "metadata": {
    "collapsed": false
   },
   "outputs": [
    {
     "name": "stdout",
     "output_type": "stream",
     "text": [
      "[ 0.  0.  0.  0.  0.  0.  0.]\n"
     ]
    }
   ],
   "source": [
    "deriv = np.zeros(len(x), float)\n",
    "print deriv\n"
   ]
  },
  {
   "cell_type": "code",
   "execution_count": 91,
   "metadata": {
    "collapsed": false
   },
   "outputs": [
    {
     "name": "stdout",
     "output_type": "stream",
     "text": [
      "3\n"
     ]
    }
   ],
   "source": [
    "print np.sum([1, 2]) //вставка"
   ]
  },
  {
   "cell_type": "code",
   "execution_count": 54,
   "metadata": {
    "collapsed": false
   },
   "outputs": [
    {
     "name": "stdout",
     "output_type": "stream",
     "text": [
      "[-0.00238853  0.00478181  0.01126439  0.03988745  0.12897067  0.37400919\n",
      "  0.96940374]\n"
     ]
    }
   ],
   "source": [
    "for i in range(len(interpolation_c)):\n",
    "    deriv[i] = np.sum([(len(x)-j-1)*interpolation_c[j]*(x[i]**(len(x)-j-2)) for j in range(len(x))])\n",
    "print deriv"
   ]
  },
  {
   "cell_type": "code",
   "execution_count": 60,
   "metadata": {
    "collapsed": true
   },
   "outputs": [],
   "source": [
    "spline_matrix = np.empty((0, 4), float)"
   ]
  },
  {
   "cell_type": "code",
   "execution_count": 61,
   "metadata": {
    "collapsed": true
   },
   "outputs": [],
   "source": [
    "def calc_spline(x1, x2, y1, y2, dy1, dy2):\n",
    "    return np.linalg.solve([[x1**3, x1**2, x1, 1], [x2**3, x2**2, x2, 1], [3*x1**2, 2*x1, 1, 0],\n",
    "                            [3*x2**2, 2*x2, 1, 0]], np.array([y1, y2, dy1, dy2]))"
   ]
  },
  {
   "cell_type": "code",
   "execution_count": 62,
   "metadata": {
    "collapsed": false
   },
   "outputs": [],
   "source": [
    "for i in range(len(x)-1):\n",
    "    spline_matrix = np.append(spline_matrix, [calc_spline(x[i], x[i+1], y[i], y[i+1], deriv[i], deriv[i+1])], axis = 0)"
   ]
  },
  {
   "cell_type": "code",
   "execution_count": 63,
   "metadata": {
    "collapsed": false
   },
   "outputs": [
    {
     "name": "stdout",
     "output_type": "stream",
     "text": [
      "[[ -2.26777729e-02   3.40186884e-02  -1.21907534e-02   2.83198048e-03]\n",
      " [  1.60164870e-02  -2.42595055e-02   1.70132692e-02  -2.03637952e-03]\n",
      " [  4.73792123e-02  -1.07846341e-01   9.12475907e-02  -2.40058233e-02]\n",
      " [  1.28445099e-01  -4.10429393e-01   4.67594464e-01  -1.79987739e-01]\n",
      " [  3.16247302e-01  -1.30486999e+00   1.88741246e+00  -9.31169802e-01]\n",
      " [  6.67820199e-01  -3.34320812e+00   5.82651216e+00  -3.46850512e+00]]\n"
     ]
    }
   ],
   "source": [
    "print spline_matrix"
   ]
  },
  {
   "cell_type": "raw",
   "metadata": {},
   "source": [
    "Каждая строка определяет отдельный сплайн, коэффициенты начинаются со старшего."
   ]
  },
  {
   "cell_type": "code",
   "execution_count": 64,
   "metadata": {
    "collapsed": false
   },
   "outputs": [],
   "source": [
    "x_range = np.arange(x[0], x[-1], (x[-1] - x[0])/10000)"
   ]
  },
  {
   "cell_type": "code",
   "execution_count": 65,
   "metadata": {
    "collapsed": true
   },
   "outputs": [],
   "source": [
    "    def polynom(x):\n",
    "        y = 0\n",
    "        for i in range(len(interpolation_c)):\n",
    "            y += interpolation_c[i]*x**(len(interpolation_c)-i-1)\n",
    "        return y\n"
   ]
  },
  {
   "cell_type": "code",
   "execution_count": 66,
   "metadata": {
    "collapsed": true
   },
   "outputs": [],
   "source": [
    "%matplotlib inline"
   ]
  },
  {
   "cell_type": "code",
   "execution_count": 67,
   "metadata": {
    "collapsed": true
   },
   "outputs": [],
   "source": [
    "y_polynomial_interpolation = [polynom(x) for x in x_range]"
   ]
  },
  {
   "cell_type": "code",
   "execution_count": 68,
   "metadata": {
    "collapsed": false
   },
   "outputs": [
    {
     "data": {
      "text/plain": [
       "[<matplotlib.lines.Line2D at 0x87dcef0>]"
      ]
     },
     "execution_count": 68,
     "metadata": {},
     "output_type": "execute_result"
    },
    {
     "data": {
      "image/png": "[encoded data removed]",
      "text/plain": [
       "<matplotlib.figure.Figure at 0x876f438>"
      ]
     },
     "metadata": {},
     "output_type": "display_data"
    }
   ],
   "source": [
    "plt.plot(x_range, y_polynomial_interpolation, \"black\")"
   ]
  },
  {
   "cell_type": "code",
   "execution_count": 96,
   "metadata": {
    "collapsed": false
   },
   "outputs": [],
   "source": [
    "data_x = [0.17453, 0.52360, 0.87267, 1.22173, 1.57080, 1.91986, 2.26893]\n",
    "data_y = [0.00162, 0.00252, 0.00498, 0.01290, 0.03964, 0.12070, 0.34097]"
   ]
  },
  {
   "cell_type": "code",
   "execution_count": 97,
   "metadata": {
    "collapsed": true
   },
   "outputs": [],
   "source": [
    "def value_of_polynomial(polynomial, x):\n",
    "# calculating the value of polynomial in point x\n",
    "    ret = 0\n",
    "    for i in range(len(polynomial)):\n",
    "        ret += polynomial[i]*x**(len(polynomial)-i-1)\n",
    "    return ret\n",
    "def find_left_point(x):\n",
    "# searches for the nearest x from data_x on the left\n",
    "    for i in range(len(data_x)-1):\n",
    "        if (data_x[i] <= x) and (data_x[i+1] >= x):\n",
    "            return i\n",
    "    print(\"find_left_point: not found\")\n"
   ]
  },
  {
   "cell_type": "code",
   "execution_count": 98,
   "metadata": {
    "collapsed": false
   },
   "outputs": [
    {
     "data": {
      "text/plain": [
       "[<matplotlib.lines.Line2D at 0x93109b0>]"
      ]
     },
     "execution_count": 98,
     "metadata": {},
     "output_type": "execute_result"
    },
    {
     "data": {
      "image/png": "[encoded data removed]",
      "text/plain": [
       "<matplotlib.figure.Figure at 0x8862898>"
      ]
     },
     "metadata": {},
     "output_type": "display_data"
    }
   ],
   "source": [
    "y_spline_interpolation = [value_of_polynomial(spline_matrix[find_left_point(x)], x) for x in x_range]\n",
    "plt.plot(x_range, y_spline_interpolation, \"red\")"
   ]
  },
  {
   "cell_type": "raw",
   "metadata": {},
   "source": [
    "Выведем теперь два графика"
   ]
  },
  {
   "cell_type": "code",
   "execution_count": 99,
   "metadata": {
    "collapsed": false
   },
   "outputs": [
    {
     "data": {
      "text/plain": [
       "[<matplotlib.lines.Line2D at 0x92559b0>]"
      ]
     },
     "execution_count": 99,
     "metadata": {},
     "output_type": "execute_result"
    },
    {
     "data": {
      "image/png": "[encoded data removed]",
      "text/plain": [
       "<matplotlib.figure.Figure at 0x9255b38>"
      ]
     },
     "metadata": {},
     "output_type": "display_data"
    }
   ],
   "source": [
    "plt.plot(x_range, y_polynomial_interpolation, \"black\")\n",
    "plt.plot(x_range, y_spline_interpolation, \"red\")"
   ]
  },
  {
   "cell_type": "raw",
   "metadata": {},
   "source": [
    "Видно, что они перекрываются."
   ]
  }
 ],
 "metadata": {
  "kernelspec": {
   "display_name": "Python 2",
   "language": "python",
   "name": "python2"
  },
  "language_info": {
   "codemirror_mode": {
    "name": "ipython",
    "version": 2
   },
   "file_extension": ".py",
   "mimetype": "text/x-python",
   "name": "python",
   "nbconvert_exporter": "python",
   "pygments_lexer": "ipython2",
   "version": "2.7.12"
  }
 },
 "nbformat": 4,
 "nbformat_minor": 0
}
