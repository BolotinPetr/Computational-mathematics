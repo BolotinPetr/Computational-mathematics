{
 "cells": [
  {
   "cell_type": "code",
   "execution_count": 2,
   "metadata": {
    "collapsed": true
   },
   "outputs": [],
   "source": [
    "import numpy as np"
   ]
  },
  {
   "cell_type": "markdown",
   "metadata": {
    "collapsed": true
   },
   "source": [
    "Сначала решим систему, если матрица треугольная."
   ]
  },
  {
   "cell_type": "code",
   "execution_count": 5,
   "metadata": {
    "collapsed": false
   },
   "outputs": [],
   "source": [
    "def solve_simple_system(A, b):\n",
    "    def modify_system(i, b):\n",
    "        for j in range(i):\n",
    "            b[j] = b[j] - A[j][i]*answer[-1]\n",
    "            #print b[j]\n",
    "    answer = []\n",
    "    row_number = A.shape[0]\n",
    "    for i in range(row_number-1, -1, -1):\n",
    "        answer.append(b[i]/A[i,i])\n",
    "        modify_system(i, b)\n",
    "    answer.reverse()\n",
    "    return answer"
   ]
  },
  {
   "cell_type": "code",
   "execution_count": 6,
   "metadata": {
    "collapsed": false
   },
   "outputs": [],
   "source": [
    "A_simple = np.array([[2.0, 3.0],\n",
    "                     [0.0, 3.0]])\n",
    "b_simple = np.array([3.0, 1.0])"
   ]
  },
  {
   "cell_type": "code",
   "execution_count": 7,
   "metadata": {
    "collapsed": false
   },
   "outputs": [
    {
     "name": "stdout",
     "output_type": "stream",
     "text": [
      "[1.0, 0.33333333333333331]\n"
     ]
    }
   ],
   "source": [
    "print solve_simple_system(A_simple, b_simple)"
   ]
  },
  {
   "cell_type": "markdown",
   "metadata": {},
   "source": [
    "Видно, что работает нормально, теперь нужно написать функции, которые будут переводить любую систему к треугольному виду."
   ]
  },
  {
   "cell_type": "code",
   "execution_count": 8,
   "metadata": {
    "collapsed": true
   },
   "outputs": [],
   "source": [
    "def to_simple(A, b):\n",
    "    def non_zero(i):\n",
    "        for k in range(A.shape[0])[i:]:\n",
    "            if A[k][i] != 0:\n",
    "                return k\n",
    "    def change_places(m, n):\n",
    "        copy = np.copy(A[m])\n",
    "        A[m] = A[n]\n",
    "        A[n] = copy\n",
    "    column_number = A.shape[1]\n",
    "    for i in range(column_number-1):\n",
    "        nz = non_zero(i)\n",
    "        change_places(i, nz)\n",
    "        for j in range(column_number)[i+1:]:\n",
    "            a_j_i = A[j][i]\n",
    "            a_i_i = A[i][i]\n",
    "            a_i = A[i]\n",
    "            b_i = b[i]\n",
    "            A[j] -= a_j_i/a_i_i*a_i\n",
    "            b[j] -= a_j_i/a_i_i*b_i\n",
    "            #print j, i, A[j][i]\n",
    "    return A,b"
   ]
  },
  {
   "cell_type": "code",
   "execution_count": 9,
   "metadata": {
    "collapsed": true
   },
   "outputs": [],
   "source": [
    "A = np.array([[2.0, 3.0],\n",
    "              [1.0, 3.0]])\n",
    "b = np.array([3.0, 1.0])"
   ]
  },
  {
   "cell_type": "code",
   "execution_count": 10,
   "metadata": {
    "collapsed": false
   },
   "outputs": [
    {
     "name": "stdout",
     "output_type": "stream",
     "text": [
      "(array([[ 2. ,  3. ],\n",
      "       [ 0. ,  1.5]]), array([ 3. , -0.5]))\n"
     ]
    }
   ],
   "source": [
    "print to_simple(A, b)"
   ]
  },
  {
   "cell_type": "markdown",
   "metadata": {},
   "source": [
    "Странные махинации сверху вроде \"a_j_i = A[j][i]\" нужны, чтобы в случае изменения матрицы всё равно всё посчиталось."
   ]
  },
  {
   "cell_type": "code",
   "execution_count": 50,
   "metadata": {
    "collapsed": true
   },
   "outputs": [],
   "source": [
    "def solve_system(A,b):\n",
    "    A1, b1 = to_simple(A, b)\n",
    "    return solve_simple_system(A1, b1)"
   ]
  },
  {
   "cell_type": "code",
   "execution_count": 51,
   "metadata": {
    "collapsed": false
   },
   "outputs": [],
   "source": [
    "A_main = np.array([[70.0, 23.0, 31.0],\n",
    "                    [42.0, 250.0, 66.0],\n",
    "                    [73.0, 85.0, 287.0]])\n",
    "b_main = np.array([100.0, 121.0, 12.0])"
   ]
  },
  {
   "cell_type": "code",
   "execution_count": 53,
   "metadata": {
    "collapsed": false
   },
   "outputs": [
    {
     "name": "stdout",
     "output_type": "stream",
     "text": [
      "[1.5654398657390658, 0.43712825353685331, -0.44567187220891091]\n"
     ]
    }
   ],
   "source": [
    "print solve_system(A_main, b_main)"
   ]
  },
  {
   "cell_type": "markdown",
   "metadata": {},
   "source": [
    "В в дальнейших вычислениях будет использоваться именно эта система."
   ]
  },
  {
   "cell_type": "markdown",
   "metadata": {},
   "source": [
    "Потому что для неё выполнено свойство диагонального преобладания."
   ]
  },
  {
   "cell_type": "markdown",
   "metadata": {
    "collapsed": true
   },
   "source": [
    "Далее реализуем итеративный метод Зейделя."
   ]
  },
  {
   "cell_type": "code",
   "execution_count": 81,
   "metadata": {
    "collapsed": true
   },
   "outputs": [],
   "source": [
    "def solve_by_zeidel(A, b):\n",
    "    def devide_A (A):\n",
    "        L1, D1, U1 = np.zeros(A.shape), np.zeros(A.shape), np.zeros(A.shape)\n",
    "        for j in range(A.shape[0]):\n",
    "            for k in range(A. shape[0]):\n",
    "                if k == j:\n",
    "                    D1[k][j] = A[k][j]\n",
    "                if k > j:\n",
    "                    L1[k][j] = A[k][j]\n",
    "                if k < j:\n",
    "                    U1[k][j] = A[k][j]\n",
    "        #print A\n",
    "        return L1, D1, U1\n",
    "    L, D, U = devide_A(A)\n",
    "    R = -1*np.dot(np.linalg.inv(L+D), U)\n",
    "    F = np.dot(np.linalg.inv(L+D), b)\n",
    "    x = np.zeros(A.shape[0])\n",
    "    for i in range(100):\n",
    "        x = np.dot(R, x) + F\n",
    "    return x\n",
    "        "
   ]
  },
  {
   "cell_type": "code",
   "execution_count": 86,
   "metadata": {
    "collapsed": true
   },
   "outputs": [],
   "source": [
    "def solve_by_variation(A, b):\n",
    "    x = np.zeros(A.shape[0])\n",
    "    for i in range(100):\n",
    "        r = b - np.dot(A, x)\n",
    "        x = x + np.dot(np.dot(A, r), r)/np.linalg.norm(np.dot(A, r))**2*r\n",
    "    return x"
   ]
  },
  {
   "cell_type": "code",
   "execution_count": 77,
   "metadata": {
    "collapsed": true
   },
   "outputs": [],
   "source": [
    "A_main = np.array([[70.0, 23.0, 31.0],\n",
    "                    [42.0, 250.0, 66.0],\n",
    "                    [73.0, 85.0, 287.0]])\n",
    "b_main = np.array([100.0, 121.0, 12.0])"
   ]
  },
  {
   "cell_type": "code",
   "execution_count": 78,
   "metadata": {
    "collapsed": false
   },
   "outputs": [
    {
     "name": "stdout",
     "output_type": "stream",
     "text": [
      "[[  70.   23.   31.]\n",
      " [  42.  250.   66.]\n",
      " [  73.   85.  287.]]\n"
     ]
    }
   ],
   "source": [
    "print A_main"
   ]
  },
  {
   "cell_type": "code",
   "execution_count": 82,
   "metadata": {
    "collapsed": false
   },
   "outputs": [
    {
     "data": {
      "text/plain": [
       "array([ 1.51169875,  0.34769198, -0.44567187])"
      ]
     },
     "execution_count": 82,
     "metadata": {},
     "output_type": "execute_result"
    }
   ],
   "source": [
    "solve_by_zeidel(A_main, b_main)"
   ]
  },
  {
   "cell_type": "code",
   "execution_count": 87,
   "metadata": {
    "collapsed": false
   },
   "outputs": [
    {
     "data": {
      "text/plain": [
       "array([ 1.51169875,  0.34769198, -0.44567187])"
      ]
     },
     "execution_count": 87,
     "metadata": {},
     "output_type": "execute_result"
    }
   ],
   "source": [
    "solve_by_variation(A_main, b_main)"
   ]
  },
  {
   "cell_type": "markdown",
   "metadata": {},
   "source": [
    "Видно, что все три метода дают правильный ответ."
   ]
  }
 ],
 "metadata": {
  "kernelspec": {
   "display_name": "Python 2",
   "language": "python",
   "name": "python2"
  },
  "language_info": {
   "codemirror_mode": {
    "name": "ipython",
    "version": 2
   },
   "file_extension": ".py",
   "mimetype": "text/x-python",
   "name": "python",
   "nbconvert_exporter": "python",
   "pygments_lexer": "ipython2",
   "version": "2.7.12"
  }
 },
 "nbformat": 4,
 "nbformat_minor": 0
}
